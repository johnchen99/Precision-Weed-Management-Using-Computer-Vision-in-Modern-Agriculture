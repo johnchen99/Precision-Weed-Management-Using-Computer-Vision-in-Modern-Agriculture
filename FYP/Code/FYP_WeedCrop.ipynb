{
  "nbformat": 4,
  "nbformat_minor": 0,
  "metadata": {
    "colab": {
      "name": "FYP_WeedCrop.ipynb",
      "provenance": [],
      "collapsed_sections": []
    },
    "kernelspec": {
      "name": "python3",
      "display_name": "Python 3"
    },
    "accelerator": "GPU"
  },
  "cells": [
    {
      "cell_type": "code",
      "metadata": {
        "id": "15kGrvm4r5UZ"
      },
      "source": [
        "# Change runtime type to GPU for acceleration\r\n",
        "\r\n",
        "!git clone https://github.com/ultralytics/yolov5  # clone repo\r\n",
        "!pip install -U -r yolov5/requirements.txt  # install dependencies\r\n",
        "%cd /content/yolov5\r\n",
        "\r\n",
        "import torch\r\n",
        "from IPython.display import Image, clear_output  # for displaying images\r\n",
        "from utils.google_utils import gdrive_download  # for downloading models/datasets\r\n",
        "\r\n",
        "clear_output()"
      ],
      "execution_count": null,
      "outputs": []
    },
    {
      "cell_type": "code",
      "metadata": {
        "id": "7gtqIQJbvHiI"
      },
      "source": [
        "%cd /content\r\n",
        "\r\n",
        "# Download my augmented dataset (Dataset: train:306, valid:20, test:14)\r\n",
        "!curl -L \"https://app.roboflow.com/ds/fYOdAuLmUO?key=CvwxAIKv8R\" > roboflow.zip; unzip roboflow.zip; rm roboflow.zip"
      ],
      "execution_count": null,
      "outputs": []
    },
    {
      "cell_type": "code",
      "metadata": {
        "id": "qpPUteBGw_6A"
      },
      "source": [
        "# Check classes \r\n",
        "%cat data.yaml"
      ],
      "execution_count": null,
      "outputs": []
    },
    {
      "cell_type": "code",
      "metadata": {
        "id": "vYgLYGUpxGPZ"
      },
      "source": [
        "# Define number of classes based on YAML for custom model\r\n",
        "import yaml\r\n",
        "with open(\"data.yaml\", 'r') as stream:\r\n",
        "    num_classes = str(yaml.safe_load(stream)['nc'])"
      ],
      "execution_count": null,
      "outputs": []
    },
    {
      "cell_type": "code",
      "metadata": {
        "id": "1hA7H91XxIPn"
      },
      "source": [
        "# Model configuration \r\n",
        "%cat /content/yolov5/models/yolov5s.yaml"
      ],
      "execution_count": null,
      "outputs": []
    },
    {
      "cell_type": "code",
      "metadata": {
        "id": "1kz0xdymxhSN"
      },
      "source": [
        "# Enable modification of num_classes\r\n",
        "from IPython.core.magic import register_line_cell_magic\r\n",
        "\r\n",
        "@register_line_cell_magic\r\n",
        "def writetemplate(line, cell):\r\n",
        "    with open(line, 'w') as f:\r\n",
        "        f.write(cell.format(**globals()))"
      ],
      "execution_count": null,
      "outputs": []
    },
    {
      "cell_type": "code",
      "metadata": {
        "id": "9z7GdKl6xkDg"
      },
      "source": [
        "# Get yolov5s and change num_classes\r\n",
        "%%writetemplate /content/yolov5/models/custom_yolov5s.yaml\r\n",
        "\r\n",
        "# parameters\r\n",
        "nc: {num_classes}  # number of classes\r\n",
        "depth_multiple: 0.33  # model depth multiple\r\n",
        "width_multiple: 0.50  # layer channel multiple\r\n",
        "\r\n",
        "# anchors\r\n",
        "anchors:\r\n",
        "  - [10,13, 16,30, 33,23]  # P3/8\r\n",
        "  - [30,61, 62,45, 59,119]  # P4/16\r\n",
        "  - [116,90, 156,198, 373,326]  # P5/32\r\n",
        "\r\n",
        "# YOLOv5 backbone\r\n",
        "backbone:\r\n",
        "  # [from, number, module, args]\r\n",
        "  [[-1, 1, Focus, [64, 3]],  # 0-P1/2\r\n",
        "   [-1, 1, Conv, [128, 3, 2]],  # 1-P2/4\r\n",
        "   [-1, 3, BottleneckCSP, [128]],\r\n",
        "   [-1, 1, Conv, [256, 3, 2]],  # 3-P3/8\r\n",
        "   [-1, 9, BottleneckCSP, [256]],\r\n",
        "   [-1, 1, Conv, [512, 3, 2]],  # 5-P4/16\r\n",
        "   [-1, 9, BottleneckCSP, [512]],\r\n",
        "   [-1, 1, Conv, [1024, 3, 2]],  # 7-P5/32\r\n",
        "   [-1, 1, SPP, [1024, [5, 9, 13]]],\r\n",
        "   [-1, 3, BottleneckCSP, [1024, False]],  # 9\r\n",
        "  ]\r\n",
        "\r\n",
        "# YOLOv5 head\r\n",
        "head:\r\n",
        "  [[-1, 1, Conv, [512, 1, 1]],\r\n",
        "   [-1, 1, nn.Upsample, [None, 2, 'nearest']],\r\n",
        "   [[-1, 6], 1, Concat, [1]],  # cat backbone P4\r\n",
        "   [-1, 3, BottleneckCSP, [512, False]],  # 13\r\n",
        "\r\n",
        "   [-1, 1, Conv, [256, 1, 1]],\r\n",
        "   [-1, 1, nn.Upsample, [None, 2, 'nearest']],\r\n",
        "   [[-1, 4], 1, Concat, [1]],  # cat backbone P3\r\n",
        "   [-1, 3, BottleneckCSP, [256, False]],  # 17 (P3/8-small)\r\n",
        "\r\n",
        "   [-1, 1, Conv, [256, 3, 2]],\r\n",
        "   [[-1, 14], 1, Concat, [1]],  # cat head P4\r\n",
        "   [-1, 3, BottleneckCSP, [512, False]],  # 20 (P4/16-medium)\r\n",
        "\r\n",
        "   [-1, 1, Conv, [512, 3, 2]],\r\n",
        "   [[-1, 10], 1, Concat, [1]],  # cat head P5\r\n",
        "   [-1, 3, BottleneckCSP, [1024, False]],  # 23 (P5/32-large)\r\n",
        "\r\n",
        "   [[17, 20, 23], 1, Detect, [nc, anchors]],  # Detect(P3, P4, P5)\r\n",
        "  ]"
      ],
      "execution_count": null,
      "outputs": []
    },
    {
      "cell_type": "code",
      "metadata": {
        "id": "XaQxeskVx2XZ"
      },
      "source": [
        "# train custom yolov5s for total 340 images, 32 batches, 500 epochs, time taken will be displayed\r\n",
        "%%time\r\n",
        "%cd /content/yolov5/\r\n",
        "!python train.py --img 340 --batch 32 --epochs 500 --data '../data.yaml' --cfg ./models/custom_yolov5s.yaml --weights '' --name yolov5s_results  --cache"
      ],
      "execution_count": null,
      "outputs": []
    },
    {
      "cell_type": "code",
      "metadata": {
        "colab": {
          "base_uri": "https://localhost:8080/"
        },
        "id": "4pusbD4iCgYx",
        "outputId": "94788f1d-a97a-463f-f495-06c92579b020"
      },
      "source": [
        "# Trained weights has been saved in path\r\n",
        "%ls runs/train/yolov5s_results2/weights"
      ],
      "execution_count": null,
      "outputs": [
        {
          "output_type": "stream",
          "text": [
            "best.pt  last.pt\n"
          ],
          "name": "stdout"
        }
      ]
    },
    {
      "cell_type": "code",
      "metadata": {
        "id": "cmj9eLpUEhtN"
      },
      "source": [
        "# Testing : \r\n",
        "%cd /content/yolov5/\r\n",
        "\r\n",
        "# Bound >= 55% Confidence\r\n",
        "!python detect.py --weights runs/train/yolov5s_results2/weights/best.pt --conf 0.55 --source ../test/images\r\n",
        "#!python detect.py --weights weights/best.pt --conf 0.58 --source ../test/images"
      ],
      "execution_count": null,
      "outputs": []
    },
    {
      "cell_type": "code",
      "metadata": {
        "id": "Nc3GSvfSFAWq"
      },
      "source": [
        "# Display inference on ALL test images\r\n",
        "\r\n",
        "import glob\r\n",
        "from IPython.display import Image, display\r\n",
        "\r\n",
        "# Change exp* value depending of number of trainings\r\n",
        "for imageName in glob.glob('/content/yolov5/runs/detect/exp3/*.jpg'): #assuming JPG\r\n",
        "    display(Image(filename=imageName))\r\n",
        "    print(\"\\n\")"
      ],
      "execution_count": null,
      "outputs": []
    }
  ]
}